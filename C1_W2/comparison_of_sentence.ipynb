{
  "nbformat": 4,
  "nbformat_minor": 0,
  "metadata": {
    "kernelspec": {
      "display_name": "Python 3",
      "language": "python",
      "name": "python3"
    },
    "language_info": {
      "codemirror_mode": {
        "name": "ipython",
        "version": 3
      },
      "file_extension": ".py",
      "mimetype": "text/x-python",
      "name": "python",
      "nbconvert_exporter": "python",
      "pygments_lexer": "ipython3",
      "version": "3.8.5"
    },
    "colab": {
      "name": "comparison_of_sentence.ipynb",
      "provenance": []
    }
  },
  "cells": [
    {
      "cell_type": "code",
      "metadata": {
        "id": "E4zydCWOi4aM"
      },
      "source": [
        "import numpy as np\n",
        "import re\n",
        "from scipy.spatial import distance"
      ],
      "execution_count": 3,
      "outputs": []
    },
    {
      "cell_type": "code",
      "metadata": {
        "id": "pj9U3kgRi4aV"
      },
      "source": [
        "with open('sentences.txt') as file:\n",
        "    list_sentence = [line.rstrip().lower() for line in file.readlines()]"
      ],
      "execution_count": 4,
      "outputs": []
    },
    {
      "cell_type": "code",
      "metadata": {
        "id": "xi34c7_ai4aW"
      },
      "source": [
        "tmp_list= []\n",
        "for string in list_sentence:\n",
        "    tmp = filter(None, re.split('[^a-z]', string))\n",
        "    tmp_list.append(list(tmp))"
      ],
      "execution_count": 5,
      "outputs": []
    },
    {
      "cell_type": "code",
      "metadata": {
        "id": "bJIVtBYWi4aW"
      },
      "source": [
        "dict_sentence = {it: sentence for it, sentence in enumerate(tmp_list)}"
      ],
      "execution_count": 6,
      "outputs": []
    },
    {
      "cell_type": "code",
      "metadata": {
        "id": "PU9zOAz9i4aX"
      },
      "source": [
        "count = 0\n",
        "dict_original_word = {}\n",
        "for sentence in tmp_list:\n",
        "    for word in sentence:\n",
        "        if word not in dict_original_word.keys():\n",
        "            dict_original_word[word] = count\n",
        "            count += 1"
      ],
      "execution_count": 7,
      "outputs": []
    },
    {
      "cell_type": "code",
      "metadata": {
        "colab": {
          "base_uri": "https://localhost:8080/"
        },
        "id": "NuQC3_77i4aX",
        "outputId": "54d06ab1-dcb2-48a0-b3d1-90ce28147f6d"
      },
      "source": [
        "matrix = np.zeros((len(list_sentence), count))\n",
        "matrix.shape"
      ],
      "execution_count": 8,
      "outputs": [
        {
          "output_type": "execute_result",
          "data": {
            "text/plain": [
              "(22, 254)"
            ]
          },
          "metadata": {
            "tags": []
          },
          "execution_count": 8
        }
      ]
    },
    {
      "cell_type": "code",
      "metadata": {
        "colab": {
          "base_uri": "https://localhost:8080/"
        },
        "id": "HNBlP8_Ii4aZ",
        "outputId": "13b5defc-fc3f-4712-da4d-913bbe9f274e"
      },
      "source": [
        "for num_key, list_of_word in dict_sentence.items():\n",
        "    for word_key, num_value in dict_original_word.items():\n",
        "        amount_repeat_word = (np.array(list_of_word) == word_key).sum()\n",
        "        \n",
        "        matrix[num_key, num_value] = amount_repeat_word\n",
        "\n",
        "matrix.astype(int)"
      ],
      "execution_count": 9,
      "outputs": [
        {
          "output_type": "execute_result",
          "data": {
            "text/plain": [
              "array([[1, 1, 1, ..., 0, 0, 0],\n",
              "       [0, 0, 1, ..., 0, 0, 0],\n",
              "       [0, 0, 2, ..., 0, 0, 0],\n",
              "       ...,\n",
              "       [0, 0, 0, ..., 0, 0, 0],\n",
              "       [1, 0, 1, ..., 0, 0, 0],\n",
              "       [0, 0, 1, ..., 1, 1, 1]])"
            ]
          },
          "metadata": {
            "tags": []
          },
          "execution_count": 9
        }
      ]
    },
    {
      "cell_type": "code",
      "metadata": {
        "id": "HTqV1uXzi4aZ"
      },
      "source": [
        "cos_distance_dist = {}\n",
        "for i in range(1, matrix.shape[0]):\n",
        "    cos_distance_dist[i] = distance.cosine(matrix[0, :], matrix[i, :])"
      ],
      "execution_count": 10,
      "outputs": []
    },
    {
      "cell_type": "code",
      "metadata": {
        "colab": {
          "base_uri": "https://localhost:8080/"
        },
        "id": "p_0WP4A1i4aZ",
        "outputId": "e895fd34-da72-4124-cc2e-dc1cb1a0841c"
      },
      "source": [
        "min1 = min((val, idx + 1) for idx, val in enumerate(cos_distance_dist.values()))\n",
        "min2 = min((val, idx + 1) for idx, val in enumerate(cos_distance_dist.values()) if (idx + 1) != min1[1])\n",
        "print(min1, min2)"
      ],
      "execution_count": 11,
      "outputs": [
        {
          "output_type": "stream",
          "text": [
            "(0.7327387580875756, 6) (0.7770887149698589, 4)\n"
          ],
          "name": "stdout"
        }
      ]
    },
    {
      "cell_type": "code",
      "metadata": {
        "id": "_U_5Z78oi4aa"
      },
      "source": [
        "with open('submission_1.txt', 'w') as file:\n",
        "    file.write(str(min2[1]) + ' ' + str(min1[1]))"
      ],
      "execution_count": 13,
      "outputs": []
    },
    {
      "cell_type": "code",
      "metadata": {
        "id": "xPoFibVEi4aa"
      },
      "source": [
        ""
      ],
      "execution_count": 12,
      "outputs": []
    }
  ]
}