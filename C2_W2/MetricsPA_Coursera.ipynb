{
  "nbformat": 4,
  "nbformat_minor": 0,
  "metadata": {
    "kernelspec": {
      "display_name": "Python 3",
      "language": "python",
      "name": "python3"
    },
    "language_info": {
      "codemirror_mode": {
        "name": "ipython",
        "version": 3
      },
      "file_extension": ".py",
      "mimetype": "text/x-python",
      "name": "python",
      "nbconvert_exporter": "python",
      "pygments_lexer": "ipython3",
      "version": "3.8.5"
    },
    "colab": {
      "name": "MetricsPA_Coursera.ipynb",
      "provenance": []
    }
  },
  "cells": [
    {
      "cell_type": "markdown",
      "metadata": {
        "id": "iaoGu24Bk6rU"
      },
      "source": [
        "**Корректность проверена на Python 3.6:**\n",
        "+ numpy 1.15.4\n",
        "+ matplotlib 3.0.2\n",
        "+ seaborn 0.9.0\n",
        "+ sklearn 0.20.2"
      ]
    },
    {
      "cell_type": "markdown",
      "metadata": {
        "id": "MoqhZXkJk6rW"
      },
      "source": [
        "# Сравнение метрик качества бинарной классификации\n",
        "## Programming Assignment"
      ]
    },
    {
      "cell_type": "markdown",
      "metadata": {
        "id": "zpNZOv0Bk6rX"
      },
      "source": [
        "В этом задании мы разберемся, в чем состоит разница между разными метриками качества. Мы остановимся на задаче бинарной классификации (с откликами 0 и 1), но рассмотрим ее как задачу предсказания вероятности того, что объект принадлежит классу 1. Таким образом, мы будем работать с вещественной, а не бинарной целевой переменной."
      ]
    },
    {
      "cell_type": "markdown",
      "metadata": {
        "id": "3F9lOhjvk6rX"
      },
      "source": [
        "Задание оформлено в стиле демонстрации с элементами Programming Assignment. Вам нужно запустить уже написанный код и рассмотреть предложенные графики, а также реализовать несколько своих функций. Для проверки запишите в отдельные файлы результаты работы этих функций на указанных наборах входных данных, это можно сделать с помощью предложенных в заданиях функций write_answer_N, N - номер задачи. Загрузите эти файлы в систему."
      ]
    },
    {
      "cell_type": "markdown",
      "metadata": {
        "id": "mTtxEnl_k6rY"
      },
      "source": [
        "Для построения графиков нужно импортировать соответствующие модули. \n",
        "Библиотека seaborn позволяет сделать графики красивее. Если вы не хотите ее использовать, закомментируйте третью строку.\n",
        "Более того, для выполнения Programming Assignment модули matplotlib и seaborn не нужны (вы можете не запускать ячейки с построением графиков и смотреть на уже построенные картинки)."
      ]
    },
    {
      "cell_type": "code",
      "metadata": {
        "id": "rVC6deLok6rY"
      },
      "source": [
        "import numpy as np\n",
        "from matplotlib import pyplot as plt\n",
        "import seaborn\n",
        "%matplotlib inline"
      ],
      "execution_count": 1,
      "outputs": []
    },
    {
      "cell_type": "markdown",
      "metadata": {
        "id": "m5Lk5bwSk6rZ"
      },
      "source": [
        "### Что предсказывают алгоритмы"
      ]
    },
    {
      "cell_type": "markdown",
      "metadata": {
        "id": "pghbetbrk6rZ"
      },
      "source": [
        "Для вычисления метрик качества в обучении с учителем нужно знать только два вектора: вектор правильных ответов и вектор предсказанных величин; будем обозначать их actual и predicted. Вектор actual известен из обучающей выборки, вектор predicted возвращается алгоритмом предсказания. Сегодня мы не будем использовать какие-то алгоритмы классификации, а просто рассмотрим разные векторы предсказаний.\n",
        "\n",
        "В нашей формулировке actual состоит из нулей и единиц, а predicted - из величин из интервала [0, 1] (вероятности класса 1). Такие векторы удобно показывать на scatter plot.\n",
        "\n",
        "Чтобы сделать финальное предсказание (уже бинарное), нужно установить порог T: все объекты, имеющие предсказание выше порога, относят к классу 1, остальные - к классу 0. "
      ]
    },
    {
      "cell_type": "code",
      "metadata": {
        "id": "sH-Lt9A8k6ra"
      },
      "source": [
        "# рисует один scatter plot\n",
        "def scatter(actual, predicted, T):\n",
        "    plt.scatter(actual, predicted)\n",
        "    plt.xlabel(\"Labels\")\n",
        "    plt.ylabel(\"Predicted probabilities\")\n",
        "    plt.plot([-0.2, 1.2], [T, T])\n",
        "    plt.axis([-0.1, 1.1, -0.1, 1.1])\n",
        "    \n",
        "# рисует несколько scatter plot в таблице, имеющей размеры shape\n",
        "def many_scatters(actuals, predicteds, Ts, titles, shape):\n",
        "    plt.figure(figsize=(shape[1]*5, shape[0]*5))\n",
        "    i = 1\n",
        "    for actual, predicted, T, title in zip(actuals, predicteds, Ts, titles):\n",
        "        ax = plt.subplot(shape[0], shape[1], i)\n",
        "        ax.set_title(title)\n",
        "        i += 1\n",
        "        scatter(actual, predicted, T)"
      ],
      "execution_count": 2,
      "outputs": []
    },
    {
      "cell_type": "markdown",
      "metadata": {
        "id": "wJ3aZx5Mk6rb"
      },
      "source": [
        "Идеальная ситуация: существует порог T, верно разделяющий вероятности, соответствующие двум классам. Пример такой ситуации:"
      ]
    },
    {
      "cell_type": "code",
      "metadata": {
        "id": "s10jLJEMk6rb"
      },
      "source": [
        "actual_0 = np.array([ 0.,  0.,  0.,  0.,  0.,  0.,  0.,  0.,  0.,  0.,  \n",
        "          1.,  1.,  1., 1.,  1.,  1.,  1.,  1.,  1.,  1.,  1.,  1.])\n",
        "predicted_0 = np.array([ 0.19015288,  0.23872404,  0.42707312,  0.15308362,  0.2951875 ,\n",
        "            0.23475641,  0.17882447,  0.36320878,  0.33505476,  0.202608  ,\n",
        "            0.82044786,  0.69750253,  0.60272784,  0.9032949 ,  0.86949819,\n",
        "            0.97368264,  0.97289232,  0.75356512,  0.65189193,  0.95237033,\n",
        "            0.91529693,  0.8458463 ])"
      ],
      "execution_count": 3,
      "outputs": []
    },
    {
      "cell_type": "code",
      "metadata": {
        "colab": {
          "base_uri": "https://localhost:8080/",
          "height": 334
        },
        "id": "eMS9Ferak6rb",
        "outputId": "8adf722c-cf54-4781-cce2-80ed591e3ff0"
      },
      "source": [
        "plt.figure(figsize=(5, 5))\n",
        "scatter(actual_0, predicted_0, 0.5)"
      ],
      "execution_count": 4,
      "outputs": [
        {
          "output_type": "display_data",
          "data": {
            "image/png": "[encoded data removed]",
            "text/plain": [
              "<Figure size 360x360 with 1 Axes>"
            ]
          },
          "metadata": {
            "tags": [],
            "needs_background": "light"
          }
        }
      ]
    },
    {
      "cell_type": "markdown",
      "metadata": {
        "id": "0wKqkMDEk6rc"
      },
      "source": [
        "Интервалы вероятностей для двух классов прекрасно разделяются порогом T = 0.5."
      ]
    },
    {
      "cell_type": "markdown",
      "metadata": {
        "id": "VMEK3UhDk6rc"
      },
      "source": [
        "Чаще всего интервалы накладываются - тогда нужно аккуратно подбирать порог. \n",
        "\n",
        "Самый неправильный алгоритм делает все наоборот: поднимает вероятности класса 0 выше вероятностей класса 1. Если так произошло, стоит посмотреть, не перепутались ли метки 0 и 1 при создании целевого вектора из сырых данных.\n",
        "\n",
        "Примеры:"
      ]
    },
    {
      "cell_type": "code",
      "metadata": {
        "id": "hm6Df3X6k6rd"
      },
      "source": [
        "actual_1 = np.array([ 0.,  0.,  0.,  0.,  0.,  0.,  0.,  0.,  0.,  0.,  0.,  0.,  0.,\n",
        "                    0.,  0.,  1.,  1.,  1.,  1.,  1.,  1.,  1.,  1.,  1.,  1.,  1.,\n",
        "                    1.,  1.,  1.,  1.])\n",
        "predicted_1 = np.array([ 0.41310733,  0.43739138,  0.22346525,  0.46746017,  0.58251177,\n",
        "            0.38989541,  0.43634826,  0.32329726,  0.01114812,  0.41623557,\n",
        "            0.54875741,  0.48526472,  0.21747683,  0.05069586,  0.16438548,\n",
        "            0.68721238,  0.72062154,  0.90268312,  0.46486043,  0.99656541,\n",
        "            0.59919345,  0.53818659,  0.8037637 ,  0.272277  ,  0.87428626,\n",
        "            0.79721372,  0.62506539,  0.63010277,  0.35276217,  0.56775664])\n",
        "actual_2 = np.array([ 1.,  1.,  1.,  1.,  1.,  1.,  1.,  1.,  1.,  1.,  1.,  1.,  0.,\n",
        "            0.,  0.,  0.,  0.,  0.,  0.,  0.,  0.,  0.,  0.,  0.])\n",
        "predicted_2 = np.array([ 0.07058193,  0.57877375,  0.42453249,  0.56562439,  0.13372737,\n",
        "            0.18696826,  0.09037209,  0.12609756,  0.14047683,  0.06210359,\n",
        "            0.36812596,  0.22277266,  0.79974381,  0.94843878,  0.4742684 ,\n",
        "            0.80825366,  0.83569563,  0.45621915,  0.79364286,  0.82181152,\n",
        "            0.44531285,  0.65245348,  0.69884206,  0.69455127])"
      ],
      "execution_count": 5,
      "outputs": []
    },
    {
      "cell_type": "code",
      "metadata": {
        "colab": {
          "base_uri": "https://localhost:8080/",
          "height": 350
        },
        "id": "0iS9ESvtk6re",
        "outputId": "bb3249b5-92f8-4904-83c0-6965946a7b78"
      },
      "source": [
        "many_scatters([actual_0, actual_1, actual_2], [predicted_0, predicted_1, predicted_2], \n",
        "              [0.5, 0.5, 0.5], [\"Perfect\", \"Typical\", \"Awful algorithm\"], (1, 3))"
      ],
      "execution_count": 6,
      "outputs": [
        {
          "output_type": "display_data",
          "data": {
            "image/png": "[encoded data removed]",
            "text/plain": [
              "<Figure size 1080x360 with 3 Axes>"
            ]
          },
          "metadata": {
            "tags": [],
            "needs_background": "light"
          }
        }
      ]
    },
    {
      "cell_type": "markdown",
      "metadata": {
        "id": "qMtUZG3uk6re"
      },
      "source": [
        "Алгоритм может быть осторожным и стремиться сильно не отклонять вероятности от 0.5, а может рисковать - делать предсказания близкими к нулю или единице.  "
      ]
    },
    {
      "cell_type": "code",
      "metadata": {
        "id": "jRlNol1lk6rf"
      },
      "source": [
        "# рискующий идеальный алгоитм\n",
        "actual_0r = np.array([ 0.,  0.,  0.,  0.,  0.,  0.,  0.,  0.,  0.,  0.,  0.,  1.,  1.,\n",
        "            1.,  1.,  1.,  1.,  1.,  1.,  1.,  1.,  1.,  1.,  1.])\n",
        "predicted_0r = np.array([ 0.23563765,  0.16685597,  0.13718058,  0.35905335,  0.18498365,\n",
        "            0.20730027,  0.14833803,  0.18841647,  0.01205882,  0.0101424 ,\n",
        "            0.10170538,  0.94552901,  0.72007506,  0.75186747,  0.85893269,\n",
        "            0.90517219,  0.97667347,  0.86346504,  0.72267683,  0.9130444 ,\n",
        "            0.8319242 ,  0.9578879 ,  0.89448939,  0.76379055])\n",
        "# рискующий хороший алгоритм\n",
        "actual_1r = np.array([ 0.,  0.,  0.,  0.,  0.,  0.,  0.,  0.,  0.,  0.,  0.,  0.,  1.,\n",
        "            1.,  1.,  1.,  1.,  1.,  1.,  1.,  1.,  1.,  1.,  1.,  1.,  1.])\n",
        "predicted_1r = np.array([ 0.13832748,  0.0814398 ,  0.16136633,  0.11766141,  0.31784942,\n",
        "            0.14886991,  0.22664977,  0.07735617,  0.07071879,  0.92146468,\n",
        "            0.87579938,  0.97561838,  0.75638872,  0.89900957,  0.93760969,\n",
        "            0.92708013,  0.82003675,  0.85833438,  0.67371118,  0.82115125,\n",
        "            0.87560984,  0.77832734,  0.7593189,  0.81615662,  0.11906964,\n",
        "            0.18857729])"
      ],
      "execution_count": 7,
      "outputs": []
    },
    {
      "cell_type": "code",
      "metadata": {
        "colab": {
          "base_uri": "https://localhost:8080/",
          "height": 621
        },
        "id": "lNlKPmQrk6rf",
        "outputId": "f6668034-c662-4085-96df-ff4b47707ded"
      },
      "source": [
        "many_scatters([actual_0, actual_1, actual_0r, actual_1r], \n",
        "              [predicted_0, predicted_1, predicted_0r, predicted_1r], \n",
        "              [0.5, 0.5, 0.5, 0.5],\n",
        "              [\"Perfect careful\", \"Typical careful\", \"Perfect risky\", \"Typical risky\"], \n",
        "              (2, 2))"
      ],
      "execution_count": 8,
      "outputs": [
        {
          "output_type": "display_data",
          "data": {
            "image/png": "[encoded data removed]",
            "text/plain": [
              "<Figure size 720x720 with 4 Axes>"
            ]
          },
          "metadata": {
            "tags": [],
            "needs_background": "light"
          }
        }
      ]
    },
    {
      "cell_type": "markdown",
      "metadata": {
        "id": "ydWd5NsVk6rg"
      },
      "source": [
        "Также интервалы могут смещаться. Если алгоритм боится ошибок false positive, то он будет чаще делать предсказания, близкие к нулю. \n",
        "Аналогично, чтобы избежать ошибок false negative, логично чаще предсказывать большие вероятности. "
      ]
    },
    {
      "cell_type": "code",
      "metadata": {
        "id": "EsKApU-uk6rg"
      },
      "source": [
        "actual_10 = np.array([ 0.,  0.,  0.,  0.,  0.,  0.,  0.,  0.,  0.,  0.,  0.,  0.,  0.,\n",
        "                0.,  1.,  1.,  1.,  1.,  1.,  1.,  1.,  1.,  1.,  1.,  1.,  1.,\n",
        "                1.,  1.,  1.])\n",
        "predicted_10 = np.array([ 0.29340574, 0.47340035,  0.1580356 ,  0.29996772,  0.24115457,  0.16177793,\n",
        "                         0.35552878,  0.18867804,  0.38141962,  0.20367392,  0.26418924, 0.16289102, \n",
        "                         0.27774892,  0.32013135,  0.13453541, 0.39478755,  0.96625033,  0.47683139,  \n",
        "                         0.51221325,  0.48938235, 0.57092593,  0.21856972,  0.62773859,  0.90454639,  0.19406537,\n",
        "                         0.32063043,  0.4545493 ,  0.57574841,  0.55847795 ])\n",
        "actual_11 = np.array([ 0.,  0.,  0.,  0.,  0.,  0.,  0.,  0.,  0.,  0.,  0.,  0.,  0.,\n",
        "                0.,  1.,  1.,  1.,  1.,  1.,  1.,  1.,  1.,  1.,  1.,  1.,  1.,  1.])\n",
        "predicted_11 = np.array([ 0.35929566, 0.61562123,  0.71974688,  0.24893298,  0.19056711,  0.89308488,\n",
        "            0.71155538,  0.00903258,  0.51950535,  0.72153302,  0.45936068,  0.20197229,  0.67092724,\n",
        "                         0.81111343,  0.65359427,  0.70044585,  0.61983513,  0.84716577,  0.8512387 ,  \n",
        "                         0.86023125,  0.7659328 ,  0.70362246,  0.70127618,  0.8578749 ,  0.83641841,  \n",
        "                         0.62959491,  0.90445368])"
      ],
      "execution_count": 9,
      "outputs": []
    },
    {
      "cell_type": "code",
      "metadata": {
        "colab": {
          "base_uri": "https://localhost:8080/",
          "height": 350
        },
        "id": "aaxDyKxkk6rg",
        "outputId": "183aef86-788b-4daa-9edc-44840aee1409"
      },
      "source": [
        "many_scatters([actual_1, actual_10, actual_11], [predicted_1, predicted_10, predicted_11], \n",
        "              [0.5, 0.5, 0.5], [\"Typical\", \"Avoids FP\", \"Avoids FN\"], (1, 3))"
      ],
      "execution_count": 10,
      "outputs": [
        {
          "output_type": "display_data",
          "data": {
            "image/png": "[encoded data removed]",
            "text/plain": [
              "<Figure size 1080x360 with 3 Axes>"
            ]
          },
          "metadata": {
            "tags": [],
            "needs_background": "light"
          }
        }
      ]
    },
    {
      "cell_type": "markdown",
      "metadata": {
        "id": "VHfRxPW2k6rh"
      },
      "source": [
        "Мы описали разные характеры векторов вероятностей. Далее мы будем смотреть, как метрики оценивают разные векторы предсказаний, поэтому обязательно выполните ячейки, создающие векторы для визуализации."
      ]
    },
    {
      "cell_type": "markdown",
      "metadata": {
        "id": "775Q6Ij0k6rh"
      },
      "source": [
        "### Метрики, оценивающие бинарные векторы предсказаний"
      ]
    },
    {
      "cell_type": "markdown",
      "metadata": {
        "id": "xfbe-nFSk6ri"
      },
      "source": [
        "Есть две типичные ситуации, когда специалисты по машинному обучению начинают изучать характеристики метрик качества: \n",
        "1. при участии в соревновании или решении прикладной задачи, когда вектор предсказаний оценивается по конкретной метрике, и нужно построить алгоритм, максимизирующий эту метрику.\n",
        "1. на этапе формализации задачи машинного обучения, когда есть требования прикладной области, и нужно предложить математическую метрику, которая будет соответствовать этим требованиям.\n",
        "\n",
        "Далее мы вкратце рассмотрим каждую метрику с этих двух позиций."
      ]
    },
    {
      "cell_type": "markdown",
      "metadata": {
        "id": "JzIx2xG2k6ri"
      },
      "source": [
        "#### Precision и recall; accuracy"
      ]
    },
    {
      "cell_type": "markdown",
      "metadata": {
        "id": "Xg7DK5Yjk6ri"
      },
      "source": [
        "Для начала разберемся с метриками, оценивающие качество уже после бинаризации по порогу T, то есть сравнивающие два бинарных вектора: actual и predicted."
      ]
    },
    {
      "cell_type": "markdown",
      "metadata": {
        "id": "2daFgwrxk6ri"
      },
      "source": [
        "Две популярные метрики - precision и recall. Первая показывает, как часто алгоритм предсказывает класс 1 и оказывается правым, а вторая - как много объектов класса 1 алгоритм нашел. \n",
        "\n",
        "Также рассмотрим самую простую и известную метрику - accuracy; она показывает долю правильных ответов.\n",
        "\n",
        "Выясним преимущества и недостатки этих метрик, попробовав их на разных векторах вероятностей."
      ]
    },
    {
      "cell_type": "code",
      "metadata": {
        "id": "GDyy8MdEk6rj"
      },
      "source": [
        "from sklearn.metrics import precision_score, recall_score, accuracy_score"
      ],
      "execution_count": 11,
      "outputs": []
    },
    {
      "cell_type": "code",
      "metadata": {
        "colab": {
          "base_uri": "https://localhost:8080/"
        },
        "id": "8rmbxFsHk6rk",
        "outputId": "25f9408e-4aab-4819-825f-3ee54e2de09c"
      },
      "source": [
        "T = 0.5\n",
        "print(\"Алгоритмы, разные по качеству:\")\n",
        "for actual, predicted, descr in zip([actual_0, actual_1, actual_2], \n",
        "                                    [predicted_0 > T, predicted_1 > T, predicted_2 > T],\n",
        "                                    [\"Perfect:\", \"Typical:\", \"Awful:\"]):\n",
        "    print(descr, \"precision =\", precision_score(actual, predicted), \"recall =\", \\\n",
        "        recall_score(actual, predicted), \";\",\\\n",
        "        \"accuracy =\", accuracy_score(actual, predicted))\n",
        "print()\n",
        "print(\"Осторожный и рискующий алгоритмы:\")\n",
        "for actual, predicted, descr in zip([actual_1, actual_1r], \n",
        "                                    [predicted_1 > T, predicted_1r > T],\n",
        "                                    [\"Typical careful:\", \"Typical risky:\"]):\n",
        "    print(descr, \"precision =\", precision_score(actual, predicted), \"recall =\", \\\n",
        "        recall_score(actual, predicted), \";\",\\\n",
        "        \"accuracy =\", accuracy_score(actual, predicted))\n",
        "print()\n",
        "print(\"Разные склонности алгоритмов к ошибкам FP и FN:\")\n",
        "for actual, predicted, descr in zip([actual_10, actual_11], \n",
        "                                    [predicted_10 > T, predicted_11 > T], \n",
        "                                    [\"Avoids FP:\", \"Avoids FN:\"]):\n",
        "    print(descr, \"precision =\", precision_score(actual, predicted), \"recall =\", \\\n",
        "        recall_score(actual, predicted), \";\",\\\n",
        "        \"accuracy =\", accuracy_score(actual, predicted))"
      ],
      "execution_count": 12,
      "outputs": [
        {
          "output_type": "stream",
          "text": [
            "Алгоритмы, разные по качеству:\n",
            "Perfect: precision = 1.0 recall = 1.0 ; accuracy = 1.0\n",
            "Typical: precision = 0.8571428571428571 recall = 0.8 ; accuracy = 0.8333333333333334\n",
            "Awful: precision = 0.18181818181818182 recall = 0.16666666666666666 ; accuracy = 0.20833333333333334\n",
            "\n",
            "Осторожный и рискующий алгоритмы:\n",
            "Typical careful: precision = 0.8571428571428571 recall = 0.8 ; accuracy = 0.8333333333333334\n",
            "Typical risky: precision = 0.8 recall = 0.8571428571428571 ; accuracy = 0.8076923076923077\n",
            "\n",
            "Разные склонности алгоритмов к ошибкам FP и FN:\n",
            "Avoids FP: precision = 1.0 recall = 0.4666666666666667 ; accuracy = 0.7241379310344828\n",
            "Avoids FN: precision = 0.6190476190476191 recall = 1.0 ; accuracy = 0.7037037037037037\n"
          ],
          "name": "stdout"
        }
      ]
    },
    {
      "cell_type": "markdown",
      "metadata": {
        "id": "fBdjM_S6k6rk"
      },
      "source": [
        "Все три метрики легко различают простые случаи хороших и плохих алгоритмов. Обратим внимание, что метрики имеют область значений  [0, 1], и потому их легко интерпретировать.\n",
        "\n",
        "Метрикам не важны величины вероятностей, им важно только то, сколько объектов неправильно зашли за установленную границу (в данном случае T = 0.5).\n",
        "\n",
        "Метрика accuracy дает одинаковый вес ошибкам false positive и false negative, зато пара метрик precision и recall однозначно идентифицирует это различие. Собственно, их для того и используют, чтобы контролировать ошибки FP и FN.\n",
        "\n",
        "Мы измерили три метрики, фиксировав порог T = 0.5, потому что для почти всех картинок он кажется оптимальным. Давайте посмотрим на последней (самой интересной для этих метрик) группе векторов, как меняются precision и recall при увеличении порога."
      ]
    },
    {
      "cell_type": "code",
      "metadata": {
        "id": "vMBizjM6k6rl"
      },
      "source": [
        "from sklearn.metrics import precision_recall_curve"
      ],
      "execution_count": 13,
      "outputs": []
    },
    {
      "cell_type": "code",
      "metadata": {
        "colab": {
          "base_uri": "https://localhost:8080/",
          "height": 350
        },
        "id": "nQLAN0TMk6rl",
        "outputId": "efab1385-fa6d-4203-f504-5fc97a153b64"
      },
      "source": [
        "precs = []\n",
        "recs = []\n",
        "threshs = []\n",
        "labels = [\"Typical\", \"Avoids FP\", \"Avoids FN\"]\n",
        "for actual, predicted in zip([actual_1, actual_10, actual_11], \n",
        "                                    [predicted_1, predicted_10, predicted_11]):\n",
        "    prec, rec, thresh = precision_recall_curve(actual, predicted)\n",
        "    precs.append(prec)\n",
        "    recs.append(rec)\n",
        "    threshs.append(thresh)\n",
        "plt.figure(figsize=(15, 5))\n",
        "for i in range(3):\n",
        "    ax = plt.subplot(1, 3, i+1)\n",
        "    plt.plot(threshs[i], precs[i][:-1], label=\"precision\")\n",
        "    plt.plot(threshs[i], recs[i][:-1], label=\"recall\")\n",
        "    plt.xlabel(\"threshold\")\n",
        "    ax.set_title(labels[i])\n",
        "    plt.legend()"
      ],
      "execution_count": 14,
      "outputs": [
        {
          "output_type": "display_data",
          "data": {
            "image/png": "[encoded data removed]",
            "text/plain": [
              "<Figure size 1080x360 with 3 Axes>"
            ]
          },
          "metadata": {
            "tags": [],
            "needs_background": "light"
          }
        }
      ]
    },
    {
      "cell_type": "markdown",
      "metadata": {
        "id": "U6FPa5A2k6rl"
      },
      "source": [
        "При увеличении порога мы делаем меньше ошибок FP и больше ошибок FN, поэтому одна из кривых растет, а вторая  - падает. По такому графику можно подобрать оптимальное значение порога, при котором precision и recall будут приемлемы. Если такого порога не нашлось, нужно обучать другой алгоритм. \n",
        "\n",
        "Оговоримся, что приемлемые значения precision и recall определяются предметной областью. Например, в задаче определения, болен ли пациент определенной болезнью (0 - здоров, 1 - болен), ошибок false negative стараются избегать, требуя recall около 0.9. Можно сказать человеку, что он болен, и при дальнейшей диагностике выявить ошибку; гораздо хуже пропустить наличие болезни."
      ]
    },
    {
      "cell_type": "markdown",
      "metadata": {
        "id": "d-KxAYksk6rm"
      },
      "source": [
        "__<font color=\"green\" size=5>Programming assignment: problem 1. </font>__ Фиксируем порог T = 0.65; по графикам можно примерно узнать, чему равны метрики на трех выбранных парах векторов (actual, predicted). Вычислите точные precision и recall для этих трех пар векторов.\n",
        "\n",
        "6 полученных чисел запишите в текстовый файл в таком порядке:\n",
        "\n",
        "precision_1 recall_1 precision_10 recall_10 precision_11 recall_11\n",
        "\n",
        "Цифры XXX после пробела соответствуют таким же цифрам в названиях переменных actual_XXX и predicted_XXX.\n",
        "\n",
        "Передайте ответ в функцию write_answer_1. Полученный файл загрузите в форму."
      ]
    },
    {
      "cell_type": "code",
      "metadata": {
        "id": "NwIOeOFWk6rm"
      },
      "source": [
        "############### Programming assignment: problem 1 ###############\n",
        "T = 0.65\n",
        "precision_1 = precision_score(actual_0, predicted_0 > T)\n",
        "recall_1 = recall_score(actual_0, predicted_0 > T)\n",
        "\n",
        "precision_10 = precision_score(actual_10, predicted_10 > T)\n",
        "recall_10 = recall_score(actual_10, predicted_10 > T)\n",
        "\n",
        "precision_11 = precision_score(actual_11, predicted_11 > T)\n",
        "recall_11 = recall_score(actual_11, predicted_11 > T)"
      ],
      "execution_count": 15,
      "outputs": []
    },
    {
      "cell_type": "code",
      "metadata": {
        "id": "RnE-xHqLk6rm"
      },
      "source": [
        "def write_answer_1(precision_1, recall_1, precision_10, recall_10, precision_11, recall_11):\n",
        "    answers = [precision_1, recall_1, precision_10, recall_10, precision_11, recall_11]\n",
        "    with open(\"pa_metrics_problem1.txt\", \"w\") as fout:\n",
        "        fout.write(\" \".join([str(num) for num in answers]))"
      ],
      "execution_count": 16,
      "outputs": []
    },
    {
      "cell_type": "code",
      "metadata": {
        "id": "LTCRbkRGk6rm"
      },
      "source": [
        "write_answer_1(precision_1, recall_1, precision_10, recall_10, precision_11, recall_11)"
      ],
      "execution_count": 17,
      "outputs": []
    },
    {
      "cell_type": "markdown",
      "metadata": {
        "id": "j4w_QMM6k6rn"
      },
      "source": [
        "#### F1-score"
      ]
    },
    {
      "cell_type": "markdown",
      "metadata": {
        "id": "E4vvKTJ6k6rn"
      },
      "source": [
        "Очевидный недостаток пары метрик precision-recall - в том, что их две: непонятно, как ранжировать алгоритмы. Чтобы этого избежать, используют F1-метрику, которая равна среднему гармоническому precision и recall. \n",
        "F1-метрика будет равна 1, если и только если precision = 1 и recall = 1 (идеальный алгоритм). \n",
        "\n",
        "(: Обмануть F1 сложно: если одна из величин маленькая, а другая близка к 1 (по графикам видно, что такое соотношение иногда легко получить), F1 будет далека от 1. F1-метрику сложно оптимизировать, потому что для этого нужно добиваться высокой полноты и точности одновременно.\n",
        "\n",
        "Например, посчитаем F1 для того же набора векторов, для которого мы строили графики (мы помним, что там одна из кривых быстро выходит в единицу)."
      ]
    },
    {
      "cell_type": "code",
      "metadata": {
        "id": "RpK2Q4KLk6rn"
      },
      "source": [
        "from sklearn.metrics import f1_score"
      ],
      "execution_count": 18,
      "outputs": []
    },
    {
      "cell_type": "code",
      "metadata": {
        "colab": {
          "base_uri": "https://localhost:8080/"
        },
        "id": "J8OSTNKOk6rn",
        "outputId": "97e15ee9-b850-4b04-ac5f-6857d7d6981c"
      },
      "source": [
        "T = 0.5\n",
        "print(\"Разные склонности алгоритмов к ошибкам FP и FN:\")\n",
        "for actual, predicted, descr in zip([actual_1, actual_10, actual_11], \n",
        "                                    [predicted_1 > T, predicted_10 > T, predicted_11 > T], \n",
        "                                    [\"Typical:\", \"Avoids FP:\", \"Avoids FN:\"]):\n",
        "    print(descr, \"f1 =\", f1_score(actual, predicted))"
      ],
      "execution_count": 19,
      "outputs": [
        {
          "output_type": "stream",
          "text": [
            "Разные склонности алгоритмов к ошибкам FP и FN:\n",
            "Typical: f1 = 0.8275862068965518\n",
            "Avoids FP: f1 = 0.6363636363636364\n",
            "Avoids FN: f1 = 0.7647058823529412\n"
          ],
          "name": "stdout"
        }
      ]
    },
    {
      "cell_type": "markdown",
      "metadata": {
        "id": "bkM1laFfk6ro"
      },
      "source": [
        "F1-метрика в двух последних случаях, когда одна из парных метрик равна 1, значительно меньше, чем в первом, сбалансированном случае."
      ]
    },
    {
      "cell_type": "markdown",
      "metadata": {
        "id": "us2iUdgxk6ro"
      },
      "source": [
        "__<font color=\"green\" size=5>Programming assignment: problem 2. </font>__ На precision и recall влияют и характер вектора вероятностей, и установленный порог. \n",
        "Для тех же пар (actual, predicted), что и в предыдущей задаче, найдите оптимальные пороги, максимизирующие F1_score. Будем рассматривать только пороги вида T = 0.1 * k, k - целое; соответственно, нужно найти три значения k. Если f1 максимизируется при нескольких значениях k, укажите наименьшее из них.\n",
        "\n",
        "Запишите найденные числа k в следующем порядке:\n",
        "\n",
        "k_1, k_10, k_11\n",
        "\n",
        "Цифры XXX после пробела соответствуют таким же цифрам в названиях переменных actual_XXX и predicted_XXX.\n",
        "\n",
        "Передайте ответ в функцию write_answer_2. Загрузите файл в форму.\n",
        "\n",
        "Если вы запишите список из трех найденных k в том же порядке в переменную ks, то с помощью кода ниже можно визуализировать найденные пороги:"
      ]
    },
    {
      "cell_type": "code",
      "metadata": {
        "colab": {
          "base_uri": "https://localhost:8080/"
        },
        "id": "usvwWV60k6ro",
        "outputId": "cfdfcc99-1b70-4779-eb86-aef5ad3f7e11"
      },
      "source": [
        "############### Programming assignment: problem 2 ###############\n",
        "k_range = np.arange(0, 11, 1)\n",
        "ks = []\n",
        "for actual, predicted in zip([actual_1, actual_10, actual_11], \n",
        "                             [predicted_1, predicted_10, predicted_11]):\n",
        "    pair_k_and_value = [(k, f1_score(actual, predicted > 0.1 * k)) for k in k_range]\n",
        "    index, _ = max(pair_k_and_value, key=lambda item: item[1])\n",
        "    ks.append(index)\n",
        "\n",
        "ks"
      ],
      "execution_count": 20,
      "outputs": [
        {
          "output_type": "execute_result",
          "data": {
            "text/plain": [
              "[5, 3, 6]"
            ]
          },
          "metadata": {
            "tags": []
          },
          "execution_count": 20
        }
      ]
    },
    {
      "cell_type": "code",
      "metadata": {
        "colab": {
          "base_uri": "https://localhost:8080/",
          "height": 350
        },
        "id": "pwz1vs6ck6rp",
        "outputId": "8acd48ab-c49d-486f-cab0-35d222013e1f"
      },
      "source": [
        "many_scatters([actual_1, actual_10, actual_11], [predicted_1, predicted_10, predicted_11], \n",
        "              np.array(ks)*0.1, [\"Typical\", \"Avoids FP\", \"Avoids FN\"], (1, 3))"
      ],
      "execution_count": 21,
      "outputs": [
        {
          "output_type": "display_data",
          "data": {
            "image/png": "[encoded data removed]",
            "text/plain": [
              "<Figure size 1080x360 with 3 Axes>"
            ]
          },
          "metadata": {
            "tags": [],
            "needs_background": "light"
          }
        }
      ]
    },
    {
      "cell_type": "code",
      "metadata": {
        "id": "ce3Z2yfck6rp"
      },
      "source": [
        "def write_answer_2(answers):\n",
        "    # answers = [k_1, k_10, k_11]\n",
        "    with open(\"pa_metrics_problem2.txt\", \"w\") as fout:\n",
        "        fout.write(\" \".join([str(num) for num in answers]))"
      ],
      "execution_count": 22,
      "outputs": []
    },
    {
      "cell_type": "code",
      "metadata": {
        "id": "picz8IBWk6rp"
      },
      "source": [
        "write_answer_2(ks)"
      ],
      "execution_count": 23,
      "outputs": []
    },
    {
      "cell_type": "markdown",
      "metadata": {
        "id": "bFWzis2ik6rp"
      },
      "source": [
        "### Метрики, оценивающие векторы вероятностей класса 1"
      ]
    },
    {
      "cell_type": "markdown",
      "metadata": {
        "id": "sFWAWRB6k6rq"
      },
      "source": [
        "Рассмотренные метрики удобно интерпретировать, но при их использовании мы не учитываем большую часть информации, полученной от алгоритма. В некоторых задачах вероятности нужны в чистом виде, например, если мы предсказываем, выиграет ли команда в футбольном матче, и величина вероятности влияет на размер ставки за эту команду. Даже если в конце концов мы все равно бинаризуем предсказание, хочется следить за характером вектора вероятности. "
      ]
    },
    {
      "cell_type": "markdown",
      "metadata": {
        "id": "Lr_pEP0Uk6rr"
      },
      "source": [
        "#### Log_loss"
      ]
    },
    {
      "cell_type": "markdown",
      "metadata": {
        "id": "8K09MSHuk6rr"
      },
      "source": [
        "Log_loss вычисляет правдоподобие меток в actual с вероятностями из predicted, взятое с противоположным знаком:\n",
        "\n",
        "$log\\_loss(actual, predicted) = - \\frac 1 n \\sum_{i=1}^n (actual_i \\cdot \\log (predicted_i) + (1-actual_i) \\cdot \\log (1-predicted_i))$, $n$ - длина векторов.\n",
        "\n",
        "Соответственно, эту метрику нужно минимизировать. "
      ]
    },
    {
      "cell_type": "markdown",
      "metadata": {
        "id": "YvyS_cKwk6rr"
      },
      "source": [
        "Вычислим ее на наших векторах:"
      ]
    },
    {
      "cell_type": "code",
      "metadata": {
        "id": "sGY8CDovk6rs"
      },
      "source": [
        "from sklearn.metrics import log_loss"
      ],
      "execution_count": 24,
      "outputs": []
    },
    {
      "cell_type": "code",
      "metadata": {
        "colab": {
          "base_uri": "https://localhost:8080/"
        },
        "id": "qzkv8FlTk6rs",
        "outputId": "a6f48f1c-efa7-4a31-e93c-3bff746ebdaf"
      },
      "source": [
        "print(\"Алгоритмы, разные по качеству:\")\n",
        "for actual, predicted, descr in zip([actual_0, actual_1, actual_2], \n",
        "                                    [predicted_0, predicted_1, predicted_2],\n",
        "                                    [\"Perfect:\", \"Typical:\", \"Awful:\"]):\n",
        "    print(descr, log_loss(actual, predicted))\n",
        "print()\n",
        "print(\"Осторожный и рискующий алгоритмы:\")\n",
        "for actual, predicted, descr in zip([actual_0, actual_0r, actual_1, actual_1r], \n",
        "                                    [predicted_0, predicted_0r, predicted_1, predicted_1r],\n",
        "                                    [\"Ideal careful\", \"Ideal risky\", \"Typical careful:\", \"Typical risky:\"]):\n",
        "    print(descr, log_loss(actual, predicted))\n",
        "print()\n",
        "print(\"Разные склонности алгоритмов к ошибкам FP и FN:\")\n",
        "for actual, predicted, descr in zip([actual_10, actual_11], \n",
        "                                    [predicted_10, predicted_11], \n",
        "                                    [\"Avoids FP:\", \"Avoids FN:\"]):\n",
        "    print(descr, log_loss(actual, predicted))"
      ],
      "execution_count": 25,
      "outputs": [
        {
          "output_type": "stream",
          "text": [
            "Алгоритмы, разные по качеству:\n",
            "Perfect: 0.24921263759186213\n",
            "Typical: 0.4645068222557676\n",
            "Awful: 1.5270248809234201\n",
            "\n",
            "Осторожный и рискующий алгоритмы:\n",
            "Ideal careful 0.24921263759186213\n",
            "Ideal risky 0.17061947914666056\n",
            "Typical careful: 0.4645068222557676\n",
            "Typical risky: 0.6138745922344455\n",
            "\n",
            "Разные склонности алгоритмов к ошибкам FP и FN:\n",
            "Avoids FP: 0.5849339709893446\n",
            "Avoids FN: 0.5886791288814904\n"
          ],
          "name": "stdout"
        }
      ]
    },
    {
      "cell_type": "markdown",
      "metadata": {
        "id": "-ER9f26Xk6rs"
      },
      "source": [
        "Как и предыдущие метрики, log_loss хорошо различает идеальный, типичный и плохой случаи. Но обратите внимание, что интерпретировать величину достаточно сложно: метрика не достигает нуля никогда и не имеет верхней границы. Поэтому даже для идеального алгоритма, если смотреть только на одно значение log_loss, невозможно понять, что он идеальный.\n",
        "\n",
        "Но зато эта метрика различает осторожный и рискующий алгоритмы. Как мы видели выше, в случаях Typical careful и Typical risky количество ошибок при бинаризации по T = 0.5 примерно одинаковое, в случаях Ideal ошибок вообще нет. Однако за неудачно угаданные классы в Typical рискующему алгоритму приходится платить большим увеличением log_loss, чем осторожному алгоритму. С другой стороны, за удачно угаданные классы рискованный идеальный алгоритм получает меньший log_loss, чем осторожный идеальный алгоритм.\n",
        "\n",
        "Таким образом, log_loss чувствителен и к вероятностям, близким к 0 и 1, и к вероятностям, близким к 0.5. \n",
        "\n",
        "Ошибки FP и FN обычный Log_loss различать не умеет."
      ]
    },
    {
      "cell_type": "markdown",
      "metadata": {
        "id": "dcaOnQ_Hk6rs"
      },
      "source": [
        "Однако нетрудно сделать обобщение log_loss на случай, когда нужно больше штрафовать FP или FN: для этого достаточно добавить выпуклую (то есть неотрицательную и суммирующуюся к единице) комбинацию из двух коэффициентов к слагаемым правдоподобия. Например, давайте штрафовать false positive:\n",
        "\n",
        "$weighted\\_log\\_loss(actual, predicted) = -\\frac 1 n \\sum_{i=1}^n (0.3\\, \\cdot actual_i \\cdot \\log (predicted_i) + 0.7\\,\\cdot (1-actual_i)\\cdot \\log (1-predicted_i))$\n",
        "\n",
        "Если алгоритм неверно предсказывает большую вероятность первому классу, то есть объект на самом деле принадлежит классу 0, то первое слагаемое в скобках равно нулю, а второе учитывается с большим весом.  "
      ]
    },
    {
      "cell_type": "markdown",
      "metadata": {
        "id": "YAAy2B0Ek6rt"
      },
      "source": [
        "__<font color=\"green\" size=5>Programming assignment: problem 3. </font>__ Напишите функцию, которая берет на вход векторы actual и predicted и возвращает модифицированный Log-Loss, вычисленный по формуле выше. Вычислите ее значение (обозначим его wll) на тех же векторах, на которых мы вычисляли обычный log_loss, и запишите в файл в следующем порядке:\n",
        "\n",
        "wll_0 wll_1 wll_2 wll_0r wll_1r wll_10 wll_11\n",
        "\n",
        "Цифры XXX после пробела соответствуют таким же цифрам в названиях переменных actual_XXX и predicted_XXX.\n",
        "\n",
        "Передайте ответ в функцию write_answer3. Загрузите файл в форму."
      ]
    },
    {
      "cell_type": "code",
      "metadata": {
        "scrolled": true,
        "id": "YJ-lMkzVk6rt"
      },
      "source": [
        "############### Programming assignment: problem 3 ###############\n",
        "\n",
        "def custom_log_loss(y_real, y_pred):\n",
        "    weighted_loss = []\n",
        "    for pair_y in zip(y_real, y_pred):\n",
        "        if pair_y[0] == 0:\n",
        "            weighted_loss.append(0.7 * np.log(1 - pair_y[1]))\n",
        "        else:\n",
        "            weighted_loss.append(0.3 * np.log(pair_y[1]))\n",
        "    return - np.sum(weighted_loss) / len(y_real)"
      ],
      "execution_count": 26,
      "outputs": []
    },
    {
      "cell_type": "code",
      "metadata": {
        "colab": {
          "base_uri": "https://localhost:8080/"
        },
        "id": "N3eJiOPwk6rt",
        "outputId": "c5a09cc9-1075-4f40-af4e-00c25e03c682"
      },
      "source": [
        "wll = []\n",
        "for actual, predicted in zip([actual_0, actual_1, actual_2, actual_0r, actual_1r, actual_10, actual_11], \n",
        "                             [predicted_0, predicted_1, predicted_2, predicted_0r, predicted_1r, predicted_10, predicted_11]):\n",
        "    wll.append(custom_log_loss(actual, predicted))\n",
        "wll"
      ],
      "execution_count": 27,
      "outputs": [
        {
          "output_type": "execute_result",
          "data": {
            "text/plain": [
              "[0.13125461813899453,\n",
              " 0.23013509212543612,\n",
              " 0.7350790493831211,\n",
              " 0.0841757752539052,\n",
              " 0.33544780012734865,\n",
              " 0.23785261402637708,\n",
              " 0.35866593961517557]"
            ]
          },
          "metadata": {
            "tags": []
          },
          "execution_count": 27
        }
      ]
    },
    {
      "cell_type": "code",
      "metadata": {
        "id": "tGncdH8ck6rt"
      },
      "source": [
        "def write_answer_3(answers):\n",
        "    # answers = [wll_0, wll_1, wll_2, wll_0r, wll_1r, wll_10, wll_11]\n",
        "    with open(\"pa_metrics_problem3.txt\", \"w\") as fout:\n",
        "        fout.write(\" \".join([str(num) for num in answers]))"
      ],
      "execution_count": 28,
      "outputs": []
    },
    {
      "cell_type": "code",
      "metadata": {
        "id": "CyXL7TvYk6ru"
      },
      "source": [
        "write_answer_3(wll)"
      ],
      "execution_count": 29,
      "outputs": []
    },
    {
      "cell_type": "markdown",
      "metadata": {
        "id": "NJJBivDLk6ru"
      },
      "source": [
        "Обратите внимание на разницу weighted_log_loss между случаями Avoids FP и Avoids FN."
      ]
    },
    {
      "cell_type": "markdown",
      "metadata": {
        "id": "bzZCZGTzk6ru"
      },
      "source": [
        "#### ROC и AUC"
      ]
    },
    {
      "cell_type": "markdown",
      "metadata": {
        "id": "hUjZ2h0rk6ru"
      },
      "source": [
        "При построении ROC-кривой (receiver operating characteristic) происходит варьирование порога бинаризации вектора вероятностей, и  вычисляются величины, зависящие от числа ошибок FP и FN. Эти величины задаются так, чтобы в случае, когда существует порог для идеального разделения классов, ROC-кривая проходила через определенную точку - верхний левый угол квадрата [0, 1] x [0, 1]. Кроме того, она всегда проходит через левый нижний и правый верхний углы. Получается наглядная визуализация качества алгоритма. С целью охарактеризовать эту визуализацию численно, ввели понятие AUC - площадь под ROC-кривой.\n",
        "\n",
        "Есть несложный и эффективный алгоритм, который за один проход по выборке вычисляет ROC-кривую и AUC, но мы не будем вдаваться в детали."
      ]
    },
    {
      "cell_type": "markdown",
      "metadata": {
        "id": "6PEj3jcJk6rv"
      },
      "source": [
        "Построим ROC-кривые для наших задач:"
      ]
    },
    {
      "cell_type": "code",
      "metadata": {
        "id": "m6krBHhTk6rv"
      },
      "source": [
        "from sklearn.metrics import roc_curve, roc_auc_score"
      ],
      "execution_count": 30,
      "outputs": []
    },
    {
      "cell_type": "code",
      "metadata": {
        "colab": {
          "base_uri": "https://localhost:8080/",
          "height": 371
        },
        "id": "KkTifi_-k6rv",
        "outputId": "d0ffb76e-6a83-4d21-8b06-0866bc853fa8"
      },
      "source": [
        "plt.figure(figsize=(15, 5))\n",
        "plt.subplot(1, 3, 1)\n",
        "aucs = \"\"\n",
        "for actual, predicted, descr in zip([actual_0, actual_1, actual_2], \n",
        "                                    [predicted_0, predicted_1, predicted_2],\n",
        "                                    [\"Perfect\", \"Typical\", \"Awful\"]):\n",
        "    fpr, tpr, thr = roc_curve(actual, predicted)\n",
        "    plt.plot(fpr, tpr, label=descr)\n",
        "    aucs += descr + \":%3f\"%roc_auc_score(actual, predicted) + \" \"\n",
        "plt.xlabel(\"false positive rate\")\n",
        "plt.ylabel(\"true positive rate\")\n",
        "plt.legend(loc=4)\n",
        "plt.axis([-0.1, 1.1, -0.1, 1.1])\n",
        "plt.subplot(1, 3, 2)\n",
        "for actual, predicted, descr in zip([actual_0, actual_0r, actual_1, actual_1r], \n",
        "                                    [predicted_0, predicted_0r, predicted_1, predicted_1r],\n",
        "                                    [\"Ideal careful\", \"Ideal Risky\", \"Typical careful\", \"Typical risky\"]):\n",
        "    fpr, tpr, thr = roc_curve(actual, predicted)\n",
        "    aucs += descr + \":%3f\"%roc_auc_score(actual, predicted) + \" \"\n",
        "    plt.plot(fpr, tpr, label=descr)\n",
        "plt.xlabel(\"false positive rate\")\n",
        "plt.ylabel(\"true positive rate\")\n",
        "plt.legend(loc=4)\n",
        "plt.axis([-0.1, 1.1, -0.1, 1.1])\n",
        "plt.subplot(1, 3, 3)\n",
        "for actual, predicted, descr in zip([actual_1, actual_10, actual_11], \n",
        "                                    [predicted_1, predicted_10, predicted_11], \n",
        "                                    [\"Typical\", \"Avoids FP\", \"Avoids FN\"]):\n",
        "    fpr, tpr, thr = roc_curve(actual, predicted)\n",
        "    aucs += descr + \":%3f\"%roc_auc_score(actual, predicted) + \" \"\n",
        "    plt.plot(fpr, tpr, label=descr)\n",
        "plt.xlabel(\"false positive rate\")\n",
        "plt.ylabel(\"true positive rate\")\n",
        "plt.legend(loc=4)\n",
        "plt.axis([-0.1, 1.1, -0.1, 1.1])\n",
        "print(aucs)"
      ],
      "execution_count": 31,
      "outputs": [
        {
          "output_type": "stream",
          "text": [
            "Perfect:1.000000 Typical:0.884444 Awful:0.041667 Ideal careful:1.000000 Ideal Risky:1.000000 Typical careful:0.884444 Typical risky:0.738095 Typical:0.884444 Avoids FP:0.819048 Avoids FN:0.780220 \n"
          ],
          "name": "stdout"
        },
        {
          "output_type": "display_data",
          "data": {
            "image/png": "[encoded data removed]",
            "text/plain": [
              "<Figure size 1080x360 with 3 Axes>"
            ]
          },
          "metadata": {
            "tags": [],
            "needs_background": "light"
          }
        }
      ]
    },
    {
      "cell_type": "markdown",
      "metadata": {
        "id": "yIVLF_Wnk6rv"
      },
      "source": [
        "Чем больше объектов в выборке, тем более гладкой выглядит кривая (хотя на самом деле она все равно ступенчатая).\n",
        "\n",
        "Как и ожидалось, кривые всех идеальных алгоритмов проходят через левый верхний угол. На первом графике также показана типичная ROC-кривая (обычно на практике они не доходят до \"идеального\" угла). \n",
        "\n",
        "AUC рискующего алгоритма значительном меньше, чем у осторожного, хотя осторожный и рискущий идеальные алгоритмы не различаются по ROC или AUC. Поэтому стремиться увеличить зазор между интервалами вероятностей классов смысла не имеет.\n",
        "\n",
        "Наблюдается перекос кривой в случае, когда алгоритму свойственны ошибки FP или FN. Однако по величине AUC это отследить невозможно (кривые могут быть симметричны относительно диагонали (0, 1)-(1, 0)). "
      ]
    },
    {
      "cell_type": "markdown",
      "metadata": {
        "id": "_ZRQ9Ufwk6rw"
      },
      "source": [
        "После того, как кривая построена, удобно выбирать порог бинаризации, в котором будет достигнут компромисс между FP или FN. Порог соответствует точке на кривой. Если мы хотим избежать ошибок FP, нужно выбирать точку на левой стороне квадрата (как можно выше), если FN - точку на верхней стороне квадрата (как можно левее). Все промежуточные точки будут соответствовать разным пропорциям FP и FN."
      ]
    },
    {
      "cell_type": "markdown",
      "metadata": {
        "id": "gE2NkvSek6rw"
      },
      "source": [
        "__<font color=\"green\" size=5>Programming assignment: problem 4. </font>__ На каждой кривой найдите точку, которая ближе всего к левому верхнему углу (ближе в смысле обычного евклидова расстояния), этой точке соответствует некоторый порог бинаризации. Запишите в выходной файл пороги в следующем порядке:\n",
        "\n",
        "T_0 T_1 T_2 T_0r T_1r T_10 T_11\n",
        "\n",
        "Цифры XXX после пробела соответствуют таким же цифрам в названиях переменных actual_XXX и predicted_XXX.\n",
        "\n",
        "Если порогов, минимизирующих расстояние, несколько, выберите __наибольший__.\n",
        "\n",
        "Передайте ответ в функцию write_answer_4. Загрузите файл в форму.\n",
        "\n",
        "Пояснение: функция roc_curve возвращает три значения: FPR (массив абсции точек ROC-кривой), TPR (массив ординат точек ROC-кривой) и thresholds (массив порогов, соответствующих точкам).\n",
        "\n",
        "Рекомендуем отрисовывать найденную точку на графике с помощью функции plt.scatter."
      ]
    },
    {
      "cell_type": "code",
      "metadata": {
        "colab": {
          "base_uri": "https://localhost:8080/",
          "height": 1000
        },
        "id": "XXyMGTbTk6rw",
        "outputId": "f864cdb9-bc83-426a-ad2a-3977e9e4774b"
      },
      "source": [
        "############### Programming assignment: problem 4 ###############\n",
        "T_list = []\n",
        "plt.figure(figsize=(15, 20))\n",
        "inner_pict = 1\n",
        "for actual, predicted, descrip in zip([actual_0, actual_1, actual_2, actual_0r, actual_1r, actual_10, actual_11], \n",
        "                             [predicted_0, predicted_1, predicted_2, predicted_0r, predicted_1r, predicted_10, predicted_11],\n",
        "                             [\"Perfect\", \"Typical\", \"Awful\", \"Ideal Risky\", \"Typical risky\", \"Avoids FP\", \"Avoids FN\"]):\n",
        "    fpr, tpr, thr = roc_curve(actual, predicted) \n",
        "    \n",
        "    tmp = tpr - 1  # ((fpr - x)**2 + (tpr - y=1)**2)**0.5\n",
        "\n",
        "    norm_array = np.linalg.norm(np.array([fpr, tmp]), ord=2, axis=0)\n",
        "\n",
        "    i = np.where(norm_array == norm_array.min())[0][0]\n",
        "    T_list.append(thr[i])\n",
        "    \n",
        "    plt.subplot(4, 2, inner_pict)\n",
        "    plt.plot(fpr, tpr, label=descrip, color=np.random.rand(3,))\n",
        "    plt.scatter([fpr[i]],[tpr[i]], color='green')\n",
        "    plt.legend(loc='best')\n",
        "    plt.xlabel(\"false positive rate\")\n",
        "    plt.ylabel(\"true positive rate\")\n",
        "    plt.axis([-0.1, 1.1, -0.1, 1.1])\n",
        "    \n",
        "    inner_pict += 1"
      ],
      "execution_count": 32,
      "outputs": [
        {
          "output_type": "display_data",
          "data": {
            "image/png": "[encoded data removed]",
            "text/plain": [
              "<Figure size 1080x1440 with 7 Axes>"
            ]
          },
          "metadata": {
            "tags": [],
            "needs_background": "light"
          }
        }
      ]
    },
    {
      "cell_type": "code",
      "metadata": {
        "id": "Or1Z13Q_k6rw"
      },
      "source": [
        "def write_answer_4(answers):\n",
        "    # answers = [T_0, T_1, T_2, T_0r, T_1r, T_10, T_11]\n",
        "    with open(\"pa_metrics_problem4.txt\", \"w\") as fout:\n",
        "        fout.write(\" \".join([str(num) for num in answers]))"
      ],
      "execution_count": 33,
      "outputs": []
    },
    {
      "cell_type": "code",
      "metadata": {
        "id": "yS16romek6rx"
      },
      "source": [
        "write_answer_4(T_list)"
      ],
      "execution_count": 34,
      "outputs": []
    },
    {
      "cell_type": "markdown",
      "metadata": {
        "id": "wyA9W-Xuk6rx"
      },
      "source": [
        "Наподобие roc_curve, строят также precision-recall curve и ищут площадь под ней."
      ]
    },
    {
      "cell_type": "markdown",
      "metadata": {
        "id": "fJJ3Bz9zk6rx"
      },
      "source": [
        "### Заключение\n",
        "\n",
        "Мы рассмотрели несколько метрик бинарной классификации. Некоторые из них, например, log_loss, обобщаются на многоклассовый случай. Если метрику сложно обобщить в виде формулы, задачу многоклассовой классификации рассматривают как совокупность задач бинарной классификации и затем особыми способами усредняют метрику (например, micro и macro averaging).\n",
        "\n",
        "На практике всегда полезно визуализировать векторы, которые выдает ваш алгоритм, чтобы понимать, какие он делает ошибки при разных порогах и как метрика реагирует на выдаваемые векторы предсказаний."
      ]
    }
  ]
}