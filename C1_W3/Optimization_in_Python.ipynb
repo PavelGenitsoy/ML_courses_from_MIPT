{
  "nbformat": 4,
  "nbformat_minor": 0,
  "metadata": {
    "kernelspec": {
      "display_name": "Python 3",
      "language": "python",
      "name": "python3"
    },
    "language_info": {
      "codemirror_mode": {
        "name": "ipython",
        "version": 3
      },
      "file_extension": ".py",
      "mimetype": "text/x-python",
      "name": "python",
      "nbconvert_exporter": "python",
      "pygments_lexer": "ipython3",
      "version": "3.8.5"
    },
    "colab": {
      "name": "Optimization_in_Python.ipynb",
      "provenance": []
    }
  },
  "cells": [
    {
      "cell_type": "code",
      "metadata": {
        "id": "JxmiEW8xjNgj"
      },
      "source": [
        "import numpy as np\n",
        "import matplotlib.pyplot as plt\n",
        "from scipy.optimize import minimize, differential_evolution"
      ],
      "execution_count": 1,
      "outputs": []
    },
    {
      "cell_type": "code",
      "metadata": {
        "id": "RnDlxM9vjNgn"
      },
      "source": [
        "def func(x):\n",
        "    return np.sin(x / 5) * np.exp(x / 10) + 5 * np.exp(-x / 2)"
      ],
      "execution_count": 2,
      "outputs": []
    },
    {
      "cell_type": "code",
      "metadata": {
        "colab": {
          "base_uri": "https://localhost:8080/",
          "height": 401
        },
        "id": "tLERmiPujNgo",
        "outputId": "d45859d3-1ad0-4e3e-921b-e4e48b65621e"
      },
      "source": [
        "x0 = np.arange(1, 31, dtype=float)\n",
        "res_real = list(func(x0))\n",
        "\n",
        "_, ax = plt.subplots(figsize=(8,6))\n",
        "ax.plot(x0, res_real, label = 'Math_function(smooth)')\n",
        "ax.set_xlabel(u'x',{'fontname':'Arial', 'size': 20})\n",
        "ax.set_ylabel(u'f(x)',{'fontname':'Arial', 'size': 20})\n",
        "ax.legend()\n",
        "plt.show()"
      ],
      "execution_count": 13,
      "outputs": [
        {
          "output_type": "display_data",
          "data": {
            "image/png": "[encoded data removed]",
            "text/plain": [
              "<Figure size 576x432 with 1 Axes>"
            ]
          },
          "metadata": {
            "tags": [],
            "needs_background": "light"
          }
        }
      ]
    },
    {
      "cell_type": "code",
      "metadata": {
        "id": "KwB0ADtWjNgp"
      },
      "source": [
        "def minimizing_smooth_function():\n",
        "    first_answer = np.round(func(minimize(func, 2., method='BFGS').x), 2)[0]\n",
        "    second_answer = np.round(func(minimize(func, 30., method='BFGS').x), 2)[0]\n",
        "    \n",
        "    with open(\"submission_1.txt\", 'w') as file:\n",
        "        file.write(str(first_answer) + \" \" + str(second_answer))\n",
        "    print(\"First task DONE!!!\")"
      ],
      "execution_count": 4,
      "outputs": []
    },
    {
      "cell_type": "code",
      "metadata": {
        "colab": {
          "base_uri": "https://localhost:8080/"
        },
        "id": "x-lOtdDLjNgq",
        "outputId": "310d71b4-e074-4087-c3f7-abed79801b39"
      },
      "source": [
        "minimizing_smooth_function()"
      ],
      "execution_count": 5,
      "outputs": [
        {
          "output_type": "stream",
          "text": [
            "First task DONE!!!\n"
          ],
          "name": "stdout"
        }
      ]
    },
    {
      "cell_type": "code",
      "metadata": {
        "id": "d32l_PSpjNgq"
      },
      "source": [
        "def global_optimization():\n",
        "    answer = np.round(func(differential_evolution(func, [(1, 30)]).x), 2)[0]\n",
        "    \n",
        "    with open(\"submission_2.txt\", 'w') as file:\n",
        "        file.write(str(answer))\n",
        "    print(\"Second task DONE!!!\")"
      ],
      "execution_count": 6,
      "outputs": []
    },
    {
      "cell_type": "code",
      "metadata": {
        "colab": {
          "base_uri": "https://localhost:8080/"
        },
        "id": "1NWbz_3SjNgr",
        "outputId": "2bca7b26-2b9b-4b75-9803-8689155b21a3"
      },
      "source": [
        "global_optimization()"
      ],
      "execution_count": 7,
      "outputs": [
        {
          "output_type": "stream",
          "text": [
            "Second task DONE!!!\n"
          ],
          "name": "stdout"
        }
      ]
    },
    {
      "cell_type": "code",
      "metadata": {
        "id": "R4VrQ4_VjNgs"
      },
      "source": [
        "def h_func(f_func):\n",
        "    return f_func.astype(int)"
      ],
      "execution_count": 8,
      "outputs": []
    },
    {
      "cell_type": "code",
      "metadata": {
        "colab": {
          "base_uri": "https://localhost:8080/",
          "height": 397
        },
        "id": "m8WfMy6YjNgs",
        "outputId": "1bd6a24d-b097-48e7-d689-0ab81d3f3810"
      },
      "source": [
        "x0 = np.arange(1, 31, 0.1, dtype=float)\n",
        "res_real = list(h_func(func(x0)))\n",
        "\n",
        "_, ax = plt.subplots(figsize=(8,6))\n",
        "ax.plot(x0, res_real, label = 'Math_function(nonsmooth)')\n",
        "ax.set_xlabel(u'x',{'fontname':'Arial', 'size': 20})\n",
        "ax.set_ylabel(u'h(x)',{'fontname':'Arial', 'size': 20})\n",
        "ax.legend()\n",
        "plt.show()"
      ],
      "execution_count": 9,
      "outputs": [
        {
          "output_type": "display_data",
          "data": {
            "image/png": "[encoded data removed]",
            "text/plain": [
              "<Figure size 576x432 with 1 Axes>"
            ]
          },
          "metadata": {
            "tags": [],
            "needs_background": "light"
          }
        }
      ]
    },
    {
      "cell_type": "code",
      "metadata": {
        "id": "gj5Gj7Z4jNgt"
      },
      "source": [
        "def int_func(x):\n",
        "    return int(func(x))"
      ],
      "execution_count": 10,
      "outputs": []
    },
    {
      "cell_type": "code",
      "metadata": {
        "id": "BzFohDPjjNgu"
      },
      "source": [
        "def minimizing_nonsmooth_function():\n",
        "    first_answer = int_func(minimize(int_func, 30., method='BFGS').x[0])\n",
        "    second_answer = int_func(differential_evolution(int_func, [(1, 30)]).x[0])\n",
        "    \n",
        "    with open(\"submission_3.txt\", 'w') as file:\n",
        "        file.write(str(first_answer) + \" \" + str(second_answer))\n",
        "    print(\"Third task DONE!!!\")"
      ],
      "execution_count": 11,
      "outputs": []
    },
    {
      "cell_type": "code",
      "metadata": {
        "colab": {
          "base_uri": "https://localhost:8080/"
        },
        "id": "bEubXaYMjNgv",
        "outputId": "ce8125e3-f9a0-4063-b352-10c5e4e0d5a0"
      },
      "source": [
        "minimizing_nonsmooth_function()"
      ],
      "execution_count": 12,
      "outputs": [
        {
          "output_type": "stream",
          "text": [
            "Third task DONE!!!\n"
          ],
          "name": "stdout"
        }
      ]
    },
    {
      "cell_type": "code",
      "metadata": {
        "id": "OuoqLTxtjNgw"
      },
      "source": [
        ""
      ],
      "execution_count": 12,
      "outputs": []
    }
  ]
}